{
 "cells": [
  {
   "cell_type": "markdown",
   "id": "b25842d6",
   "metadata": {},
   "source": [
    "# Import the necessary libraries: pandas & requests"
   ]
  },
  {
   "cell_type": "code",
   "execution_count": 45,
   "id": "215eb6bc",
   "metadata": {},
   "outputs": [],
   "source": [
    "import pandas as pd\n",
    "import requests as requests\n",
    "import json"
   ]
  },
  {
   "cell_type": "markdown",
   "id": "416a4caf",
   "metadata": {},
   "source": [
    "# Go on to this website: `https://kinduff.github.io/dog-api/`. Read the docs. "
   ]
  },
  {
   "cell_type": "markdown",
   "id": "bb949a18",
   "metadata": {},
   "source": [
    "## Build the `url_for_request`. This will be the result of: reading the docs 🙃. "
   ]
  },
  {
   "cell_type": "markdown",
   "id": "543e6c0d",
   "metadata": {},
   "source": [
    "Hint: there's a `base_url` to which you need to add another `endpoint`. Call the resulting string `url_for_request`"
   ]
  },
  {
   "cell_type": "code",
   "execution_count": 46,
   "id": "8c147eb7",
   "metadata": {},
   "outputs": [],
   "source": [
    "url1 = \"http://dog-api.kinduff.com\"\n",
    "\n",
    "url2 = \"/api/facts\"\n",
    "\n",
    "url_for_request = url1 + url2"
   ]
  },
  {
   "cell_type": "markdown",
   "id": "c5f33f0f",
   "metadata": {},
   "source": [
    "# Do one request using the `url_for_request`. Make sure it's read as a json."
   ]
  },
  {
   "cell_type": "code",
   "execution_count": 47,
   "id": "fc875262",
   "metadata": {},
   "outputs": [
    {
     "data": {
      "text/plain": [
       "{'facts': ['The name of the dog on the Cracker Jacks box is Bingo. The Taco Bell Chihuahua is a rescued dog named Gidget.'],\n",
       " 'success': True}"
      ]
     },
     "execution_count": 47,
     "metadata": {},
     "output_type": "execute_result"
    }
   ],
   "source": [
    "res = requests.get(url_for_request).json()\n",
    "res"
   ]
  },
  {
   "cell_type": "markdown",
   "id": "1bfb3a80",
   "metadata": {},
   "source": [
    "# Great! Now: encapsulate"
   ]
  },
  {
   "cell_type": "markdown",
   "id": "d72434d8",
   "metadata": {},
   "source": [
    "- Create a function whith the name: `request_dog_facts`\n",
    "- It should not take any argument\n",
    "- It should return one dictionary with the information requested\n"
   ]
  },
  {
   "cell_type": "code",
   "execution_count": 48,
   "id": "e7dc2129",
   "metadata": {},
   "outputs": [],
   "source": [
    "def request_dog_facts():\n",
    "    solution = res\n",
    "    return solution"
   ]
  },
  {
   "cell_type": "code",
   "execution_count": 49,
   "id": "14121393",
   "metadata": {},
   "outputs": [
    {
     "data": {
      "text/plain": [
       "{'facts': ['The name of the dog on the Cracker Jacks box is Bingo. The Taco Bell Chihuahua is a rescued dog named Gidget.'],\n",
       " 'success': True}"
      ]
     },
     "execution_count": 49,
     "metadata": {},
     "output_type": "execute_result"
    }
   ],
   "source": [
    "request_dog_facts()"
   ]
  },
  {
   "cell_type": "markdown",
   "id": "5c01f4ce",
   "metadata": {},
   "source": [
    "# APIs may be faulty when requesting many times: make sure you implement a try & except to cover for that."
   ]
  },
  {
   "cell_type": "markdown",
   "id": "ae0d7596",
   "metadata": {},
   "source": [
    "If the request doesn't work, make sure you return a message"
   ]
  },
  {
   "cell_type": "code",
   "execution_count": 50,
   "id": "9263e7c8",
   "metadata": {},
   "outputs": [],
   "source": [
    "try:\n",
    "    request_dog_facts()\n",
    "except Exception as e:\n",
    "    print(\"Error occured, please try again later\", str(e))"
   ]
  },
  {
   "cell_type": "markdown",
   "id": "b201a536",
   "metadata": {},
   "source": [
    "# We now want to get as the day of the month today: eg.: if current month is october we'll make 10  requests"
   ]
  },
  {
   "cell_type": "markdown",
   "id": "b9ee1515",
   "metadata": {},
   "source": [
    "Create a variable called `current_month`. Using the imported library in the first cell, save today's day."
   ]
  },
  {
   "cell_type": "code",
   "execution_count": 54,
   "id": "1e7947fe",
   "metadata": {},
   "outputs": [],
   "source": [
    "#what does this mean lol\n",
    "\n",
    "from datetime import datetime\n",
    "\n",
    "current_date = datetime.now()\n",
    "current_day = current_date.day\n",
    "\n",
    "current_month = current_date.month"
   ]
  },
  {
   "cell_type": "code",
   "execution_count": 53,
   "id": "a6bd9113",
   "metadata": {},
   "outputs": [],
   "source": [
    "list_of_dicts_1 = []\n",
    "for i in range(current_month):\n",
    "    res = requests.get(url_for_request).json()\n",
    "    list_of_dicts_1.append(res)"
   ]
  },
  {
   "cell_type": "markdown",
   "id": "79f81f5f",
   "metadata": {},
   "source": [
    "# If `todays_date` is 27, create a list with 27 dictionaries reusing the function you just created: `request_dog_facts`. List should be called: `dogs_facts`. Do this using a comprehension list"
   ]
  },
  {
   "cell_type": "code",
   "execution_count": 71,
   "id": "f5f688a9",
   "metadata": {},
   "outputs": [
    {
     "name": "stdout",
     "output_type": "stream",
     "text": [
      "[{'facts': ['The Basenji is the only barkless dog.'], 'success': True}, {'facts': ['The Basenji is the only barkless dog.'], 'success': True}, {'facts': ['The Basenji is the only barkless dog.'], 'success': True}, {'facts': ['The Basenji is the only barkless dog.'], 'success': True}, {'facts': ['The Basenji is the only barkless dog.'], 'success': True}, {'facts': ['The Basenji is the only barkless dog.'], 'success': True}, {'facts': ['The Basenji is the only barkless dog.'], 'success': True}, {'facts': ['The Basenji is the only barkless dog.'], 'success': True}, {'facts': ['The Basenji is the only barkless dog.'], 'success': True}, {'facts': ['The Basenji is the only barkless dog.'], 'success': True}, {'facts': ['The Basenji is the only barkless dog.'], 'success': True}, {'facts': ['The Basenji is the only barkless dog.'], 'success': True}, {'facts': ['The Basenji is the only barkless dog.'], 'success': True}, {'facts': ['The Basenji is the only barkless dog.'], 'success': True}, {'facts': ['The Basenji is the only barkless dog.'], 'success': True}, {'facts': ['The Basenji is the only barkless dog.'], 'success': True}, {'facts': ['The Basenji is the only barkless dog.'], 'success': True}, {'facts': ['The Basenji is the only barkless dog.'], 'success': True}, {'facts': ['The Basenji is the only barkless dog.'], 'success': True}, {'facts': ['The Basenji is the only barkless dog.'], 'success': True}, {'facts': ['The Basenji is the only barkless dog.'], 'success': True}, {'facts': ['The Basenji is the only barkless dog.'], 'success': True}, {'facts': ['The Basenji is the only barkless dog.'], 'success': True}, {'facts': ['The Basenji is the only barkless dog.'], 'success': True}, {'facts': ['The Basenji is the only barkless dog.'], 'success': True}, {'facts': ['The Basenji is the only barkless dog.'], 'success': True}, {'facts': ['The Basenji is the only barkless dog.'], 'success': True}]\n"
     ]
    }
   ],
   "source": [
    "dog_facts = [res for i in range(current_day)]\n",
    "print(list_of_dicts_2)"
   ]
  },
  {
   "cell_type": "markdown",
   "id": "ec3a47d4",
   "metadata": {},
   "source": [
    "# Build a DF. You have a list of dictionaries, should be easy!"
   ]
  },
  {
   "cell_type": "code",
   "execution_count": 72,
   "id": "d22652ed",
   "metadata": {
    "scrolled": true
   },
   "outputs": [
    {
     "data": {
      "text/html": [
       "<div>\n",
       "<style scoped>\n",
       "    .dataframe tbody tr th:only-of-type {\n",
       "        vertical-align: middle;\n",
       "    }\n",
       "\n",
       "    .dataframe tbody tr th {\n",
       "        vertical-align: top;\n",
       "    }\n",
       "\n",
       "    .dataframe thead th {\n",
       "        text-align: right;\n",
       "    }\n",
       "</style>\n",
       "<table border=\"1\" class=\"dataframe\">\n",
       "  <thead>\n",
       "    <tr style=\"text-align: right;\">\n",
       "      <th></th>\n",
       "      <th>facts</th>\n",
       "      <th>success</th>\n",
       "    </tr>\n",
       "  </thead>\n",
       "  <tbody>\n",
       "    <tr>\n",
       "      <th>0</th>\n",
       "      <td>[The Basenji is the only barkless dog.]</td>\n",
       "      <td>True</td>\n",
       "    </tr>\n",
       "    <tr>\n",
       "      <th>1</th>\n",
       "      <td>[The Basenji is the only barkless dog.]</td>\n",
       "      <td>True</td>\n",
       "    </tr>\n",
       "    <tr>\n",
       "      <th>2</th>\n",
       "      <td>[The Basenji is the only barkless dog.]</td>\n",
       "      <td>True</td>\n",
       "    </tr>\n",
       "    <tr>\n",
       "      <th>3</th>\n",
       "      <td>[The Basenji is the only barkless dog.]</td>\n",
       "      <td>True</td>\n",
       "    </tr>\n",
       "    <tr>\n",
       "      <th>4</th>\n",
       "      <td>[The Basenji is the only barkless dog.]</td>\n",
       "      <td>True</td>\n",
       "    </tr>\n",
       "    <tr>\n",
       "      <th>5</th>\n",
       "      <td>[The Basenji is the only barkless dog.]</td>\n",
       "      <td>True</td>\n",
       "    </tr>\n",
       "    <tr>\n",
       "      <th>6</th>\n",
       "      <td>[The Basenji is the only barkless dog.]</td>\n",
       "      <td>True</td>\n",
       "    </tr>\n",
       "    <tr>\n",
       "      <th>7</th>\n",
       "      <td>[The Basenji is the only barkless dog.]</td>\n",
       "      <td>True</td>\n",
       "    </tr>\n",
       "    <tr>\n",
       "      <th>8</th>\n",
       "      <td>[The Basenji is the only barkless dog.]</td>\n",
       "      <td>True</td>\n",
       "    </tr>\n",
       "    <tr>\n",
       "      <th>9</th>\n",
       "      <td>[The Basenji is the only barkless dog.]</td>\n",
       "      <td>True</td>\n",
       "    </tr>\n",
       "    <tr>\n",
       "      <th>10</th>\n",
       "      <td>[The Basenji is the only barkless dog.]</td>\n",
       "      <td>True</td>\n",
       "    </tr>\n",
       "    <tr>\n",
       "      <th>11</th>\n",
       "      <td>[The Basenji is the only barkless dog.]</td>\n",
       "      <td>True</td>\n",
       "    </tr>\n",
       "    <tr>\n",
       "      <th>12</th>\n",
       "      <td>[The Basenji is the only barkless dog.]</td>\n",
       "      <td>True</td>\n",
       "    </tr>\n",
       "    <tr>\n",
       "      <th>13</th>\n",
       "      <td>[The Basenji is the only barkless dog.]</td>\n",
       "      <td>True</td>\n",
       "    </tr>\n",
       "    <tr>\n",
       "      <th>14</th>\n",
       "      <td>[The Basenji is the only barkless dog.]</td>\n",
       "      <td>True</td>\n",
       "    </tr>\n",
       "    <tr>\n",
       "      <th>15</th>\n",
       "      <td>[The Basenji is the only barkless dog.]</td>\n",
       "      <td>True</td>\n",
       "    </tr>\n",
       "    <tr>\n",
       "      <th>16</th>\n",
       "      <td>[The Basenji is the only barkless dog.]</td>\n",
       "      <td>True</td>\n",
       "    </tr>\n",
       "    <tr>\n",
       "      <th>17</th>\n",
       "      <td>[The Basenji is the only barkless dog.]</td>\n",
       "      <td>True</td>\n",
       "    </tr>\n",
       "    <tr>\n",
       "      <th>18</th>\n",
       "      <td>[The Basenji is the only barkless dog.]</td>\n",
       "      <td>True</td>\n",
       "    </tr>\n",
       "    <tr>\n",
       "      <th>19</th>\n",
       "      <td>[The Basenji is the only barkless dog.]</td>\n",
       "      <td>True</td>\n",
       "    </tr>\n",
       "    <tr>\n",
       "      <th>20</th>\n",
       "      <td>[The Basenji is the only barkless dog.]</td>\n",
       "      <td>True</td>\n",
       "    </tr>\n",
       "    <tr>\n",
       "      <th>21</th>\n",
       "      <td>[The Basenji is the only barkless dog.]</td>\n",
       "      <td>True</td>\n",
       "    </tr>\n",
       "    <tr>\n",
       "      <th>22</th>\n",
       "      <td>[The Basenji is the only barkless dog.]</td>\n",
       "      <td>True</td>\n",
       "    </tr>\n",
       "    <tr>\n",
       "      <th>23</th>\n",
       "      <td>[The Basenji is the only barkless dog.]</td>\n",
       "      <td>True</td>\n",
       "    </tr>\n",
       "    <tr>\n",
       "      <th>24</th>\n",
       "      <td>[The Basenji is the only barkless dog.]</td>\n",
       "      <td>True</td>\n",
       "    </tr>\n",
       "    <tr>\n",
       "      <th>25</th>\n",
       "      <td>[The Basenji is the only barkless dog.]</td>\n",
       "      <td>True</td>\n",
       "    </tr>\n",
       "    <tr>\n",
       "      <th>26</th>\n",
       "      <td>[The Basenji is the only barkless dog.]</td>\n",
       "      <td>True</td>\n",
       "    </tr>\n",
       "  </tbody>\n",
       "</table>\n",
       "</div>"
      ],
      "text/plain": [
       "                                      facts  success\n",
       "0   [The Basenji is the only barkless dog.]     True\n",
       "1   [The Basenji is the only barkless dog.]     True\n",
       "2   [The Basenji is the only barkless dog.]     True\n",
       "3   [The Basenji is the only barkless dog.]     True\n",
       "4   [The Basenji is the only barkless dog.]     True\n",
       "5   [The Basenji is the only barkless dog.]     True\n",
       "6   [The Basenji is the only barkless dog.]     True\n",
       "7   [The Basenji is the only barkless dog.]     True\n",
       "8   [The Basenji is the only barkless dog.]     True\n",
       "9   [The Basenji is the only barkless dog.]     True\n",
       "10  [The Basenji is the only barkless dog.]     True\n",
       "11  [The Basenji is the only barkless dog.]     True\n",
       "12  [The Basenji is the only barkless dog.]     True\n",
       "13  [The Basenji is the only barkless dog.]     True\n",
       "14  [The Basenji is the only barkless dog.]     True\n",
       "15  [The Basenji is the only barkless dog.]     True\n",
       "16  [The Basenji is the only barkless dog.]     True\n",
       "17  [The Basenji is the only barkless dog.]     True\n",
       "18  [The Basenji is the only barkless dog.]     True\n",
       "19  [The Basenji is the only barkless dog.]     True\n",
       "20  [The Basenji is the only barkless dog.]     True\n",
       "21  [The Basenji is the only barkless dog.]     True\n",
       "22  [The Basenji is the only barkless dog.]     True\n",
       "23  [The Basenji is the only barkless dog.]     True\n",
       "24  [The Basenji is the only barkless dog.]     True\n",
       "25  [The Basenji is the only barkless dog.]     True\n",
       "26  [The Basenji is the only barkless dog.]     True"
      ]
     },
     "execution_count": 72,
     "metadata": {},
     "output_type": "execute_result"
    }
   ],
   "source": [
    "facts = pd.DataFrame(dog_facts)\n",
    "facts"
   ]
  },
  {
   "cell_type": "code",
   "execution_count": 73,
   "id": "2f520f6c",
   "metadata": {},
   "outputs": [],
   "source": [
    "#Pretty sure this shouldn't be the same one 27 times. I'm gonna start the project :)"
   ]
  },
  {
   "cell_type": "markdown",
   "id": "9f401ae3",
   "metadata": {},
   "source": [
    "# Modify the previous table, using a lambda function, so you modify the column data to have the same column but with the element instead of the list with that one element"
   ]
  },
  {
   "cell_type": "code",
   "execution_count": 11,
   "id": "b29f4826",
   "metadata": {},
   "outputs": [],
   "source": [
    "# Your code here"
   ]
  },
  {
   "cell_type": "markdown",
   "id": "d3fb564c",
   "metadata": {},
   "source": [
    "# Save the dataframe into the data folder. "
   ]
  },
  {
   "cell_type": "markdown",
   "id": "2b334e3d",
   "metadata": {},
   "source": [
    "Make sure you don't get that unnamed: 0 column. Hint: https://stackoverflow.com/questions/36519086/how-to-get-rid-of-unnamed-0-column-in-a-pandas-dataframe-read-in-from-csv-fil"
   ]
  },
  {
   "cell_type": "code",
   "execution_count": 50,
   "id": "ca21a372",
   "metadata": {},
   "outputs": [],
   "source": [
    "# Your code here"
   ]
  }
 ],
 "metadata": {
  "kernelspec": {
   "display_name": "ironhack",
   "language": "python",
   "name": "ironhack"
  },
  "language_info": {
   "codemirror_mode": {
    "name": "ipython",
    "version": 3
   },
   "file_extension": ".py",
   "mimetype": "text/x-python",
   "name": "python",
   "nbconvert_exporter": "python",
   "pygments_lexer": "ipython3",
   "version": "3.11.5"
  },
  "nbTranslate": {
   "displayLangs": [
    "en",
    "es"
   ],
   "hotkey": "alt-a",
   "langInMainMenu": true,
   "sourceLang": "es",
   "targetLang": "en",
   "useGoogleTranslate": true
  },
  "toc": {
   "base_numbering": 1,
   "nav_menu": {},
   "number_sections": true,
   "sideBar": true,
   "skip_h1_title": false,
   "title_cell": "Table of Contents",
   "title_sidebar": "Contents",
   "toc_cell": false,
   "toc_position": {},
   "toc_section_display": true,
   "toc_window_display": false
  }
 },
 "nbformat": 4,
 "nbformat_minor": 5
}
